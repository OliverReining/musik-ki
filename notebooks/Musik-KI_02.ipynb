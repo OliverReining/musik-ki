{
 "cells": [
  {
   "cell_type": "code",
   "execution_count": null,
   "id": "65225999-8cc1-45ef-8d45-1c772d1556c3",
   "metadata": {},
   "outputs": [],
   "source": [
    "# Installation der notwendigen Bibliotheken\n",
    "!pip install tensorflow pretty_midi numpy\n"
   ]
  },
  {
   "cell_type": "code",
   "execution_count": 9,
   "id": "044dde84-ea83-44d8-82e9-a4950fe2bd57",
   "metadata": {},
   "outputs": [],
   "source": [
    "# Import der notwendigen Bibliotheken\n",
    "import tensorflow as tf\n",
    "import pretty_midi\n",
    "import numpy as np\n",
    "import os\n",
    "\n",
    "# Import der Module aus dem src-Verzeichnis\n",
    "import sys\n",
    "sys.path.append('../src')\n",
    "\n",
    "from data_processing import load_midi_files, preprocess_notes, midi_to_notes, load_user_midi_file\n",
    "from model import build_model, generate_music, notes_to_midi\n",
    "from training import load_data, train_model, train_user_model\n"
   ]
  },
  {
   "cell_type": "code",
   "execution_count": 10,
   "id": "2daef797-6537-411d-9b03-e5aaad658f5c",
   "metadata": {
    "scrolled": true
   },
   "outputs": [
    {
     "ename": "FileNotFoundError",
     "evalue": "[Errno 2] No such file or directory: '../data\\\\../data/user_midi_file.mid'",
     "output_type": "error",
     "traceback": [
      "\u001b[1;31m---------------------------------------------------------------------------\u001b[0m",
      "\u001b[1;31mFileNotFoundError\u001b[0m                         Traceback (most recent call last)",
      "Cell \u001b[1;32mIn[10], line 6\u001b[0m\n\u001b[0;32m      4\u001b[0m \u001b[38;5;66;03m# Benutzerdefinierte MIDI-Datei trainieren\u001b[39;00m\n\u001b[0;32m      5\u001b[0m user_midi_file \u001b[38;5;241m=\u001b[39m \u001b[38;5;124m'\u001b[39m\u001b[38;5;124m../data/user_midi_file.mid\u001b[39m\u001b[38;5;124m'\u001b[39m  \u001b[38;5;66;03m# Hier den Dateinamen der benutzerdefinierten MIDI-Datei eingeben\u001b[39;00m\n\u001b[1;32m----> 6\u001b[0m model \u001b[38;5;241m=\u001b[39m train_user_model(os\u001b[38;5;241m.\u001b[39mpath\u001b[38;5;241m.\u001b[39mjoin(data_dir, user_midi_file))\n",
      "File \u001b[1;32m~\\Desktop\\Coding\\musik-ki\\notebooks\\../src\\training.py:23\u001b[0m, in \u001b[0;36mtrain_user_model\u001b[1;34m(midi_file, seq_length, epochs, batch_size)\u001b[0m\n\u001b[0;32m     22\u001b[0m \u001b[38;5;28;01mdef\u001b[39;00m \u001b[38;5;21mtrain_user_model\u001b[39m(midi_file, seq_length\u001b[38;5;241m=\u001b[39m\u001b[38;5;241m50\u001b[39m, epochs\u001b[38;5;241m=\u001b[39m\u001b[38;5;241m50\u001b[39m, batch_size\u001b[38;5;241m=\u001b[39m\u001b[38;5;241m64\u001b[39m):\n\u001b[1;32m---> 23\u001b[0m     user_notes \u001b[38;5;241m=\u001b[39m load_user_midi_file(midi_file)\n\u001b[0;32m     24\u001b[0m     X_train \u001b[38;5;241m=\u001b[39m np\u001b[38;5;241m.\u001b[39marray([seq[\u001b[38;5;241m0\u001b[39m] \u001b[38;5;28;01mfor\u001b[39;00m seq \u001b[38;5;129;01min\u001b[39;00m user_notes])\n\u001b[0;32m     25\u001b[0m     y_train \u001b[38;5;241m=\u001b[39m np\u001b[38;5;241m.\u001b[39marray([seq[\u001b[38;5;241m1\u001b[39m] \u001b[38;5;28;01mfor\u001b[39;00m seq \u001b[38;5;129;01min\u001b[39;00m user_notes])\n",
      "File \u001b[1;32m~\\Desktop\\Coding\\musik-ki\\notebooks\\../src\\data_processing.py:33\u001b[0m, in \u001b[0;36mload_user_midi_file\u001b[1;34m(midi_file)\u001b[0m\n\u001b[0;32m     32\u001b[0m \u001b[38;5;28;01mdef\u001b[39;00m \u001b[38;5;21mload_user_midi_file\u001b[39m(midi_file):\n\u001b[1;32m---> 33\u001b[0m     notes \u001b[38;5;241m=\u001b[39m midi_to_notes(midi_file)\n\u001b[0;32m     34\u001b[0m     \u001b[38;5;28;01mreturn\u001b[39;00m preprocess_notes(notes)\n",
      "File \u001b[1;32m~\\Desktop\\Coding\\musik-ki\\notebooks\\../src\\data_processing.py:8\u001b[0m, in \u001b[0;36mmidi_to_notes\u001b[1;34m(midi_file)\u001b[0m\n\u001b[0;32m      7\u001b[0m \u001b[38;5;28;01mdef\u001b[39;00m \u001b[38;5;21mmidi_to_notes\u001b[39m(midi_file):\n\u001b[1;32m----> 8\u001b[0m     pm \u001b[38;5;241m=\u001b[39m pretty_midi\u001b[38;5;241m.\u001b[39mPrettyMIDI(midi_file)\n\u001b[0;32m      9\u001b[0m     notes \u001b[38;5;241m=\u001b[39m []\n\u001b[0;32m     10\u001b[0m     \u001b[38;5;28;01mfor\u001b[39;00m instrument \u001b[38;5;129;01min\u001b[39;00m pm\u001b[38;5;241m.\u001b[39minstruments:\n",
      "File \u001b[1;32m~\\AppData\\Roaming\\Python\\Python311\\site-packages\\pretty_midi\\pretty_midi.py:63\u001b[0m, in \u001b[0;36mPrettyMIDI.__init__\u001b[1;34m(self, midi_file, resolution, initial_tempo)\u001b[0m\n\u001b[0;32m     59\u001b[0m \u001b[38;5;28;01mif\u001b[39;00m midi_file \u001b[38;5;129;01mis\u001b[39;00m \u001b[38;5;129;01mnot\u001b[39;00m \u001b[38;5;28;01mNone\u001b[39;00m:\n\u001b[0;32m     60\u001b[0m     \u001b[38;5;66;03m# Load in the MIDI data using the midi module\u001b[39;00m\n\u001b[0;32m     61\u001b[0m     \u001b[38;5;28;01mif\u001b[39;00m \u001b[38;5;28misinstance\u001b[39m(midi_file, six\u001b[38;5;241m.\u001b[39mstring_types):\n\u001b[0;32m     62\u001b[0m         \u001b[38;5;66;03m# If a string was given, pass it as the string filename\u001b[39;00m\n\u001b[1;32m---> 63\u001b[0m         midi_data \u001b[38;5;241m=\u001b[39m mido\u001b[38;5;241m.\u001b[39mMidiFile(filename\u001b[38;5;241m=\u001b[39mmidi_file)\n\u001b[0;32m     64\u001b[0m     \u001b[38;5;28;01melse\u001b[39;00m:\n\u001b[0;32m     65\u001b[0m         \u001b[38;5;66;03m# Otherwise, try passing it in as a file pointer\u001b[39;00m\n\u001b[0;32m     66\u001b[0m         midi_data \u001b[38;5;241m=\u001b[39m mido\u001b[38;5;241m.\u001b[39mMidiFile(file\u001b[38;5;241m=\u001b[39mmidi_file)\n",
      "File \u001b[1;32m~\\AppData\\Roaming\\Python\\Python311\\site-packages\\mido\\midifiles\\midifiles.py:319\u001b[0m, in \u001b[0;36mMidiFile.__init__\u001b[1;34m(self, filename, file, type, ticks_per_beat, charset, debug, clip, tracks)\u001b[0m\n\u001b[0;32m    317\u001b[0m     \u001b[38;5;28mself\u001b[39m\u001b[38;5;241m.\u001b[39m_load(file)\n\u001b[0;32m    318\u001b[0m \u001b[38;5;28;01melif\u001b[39;00m \u001b[38;5;28mself\u001b[39m\u001b[38;5;241m.\u001b[39mfilename \u001b[38;5;129;01mis\u001b[39;00m \u001b[38;5;129;01mnot\u001b[39;00m \u001b[38;5;28;01mNone\u001b[39;00m:\n\u001b[1;32m--> 319\u001b[0m     \u001b[38;5;28;01mwith\u001b[39;00m \u001b[38;5;28mopen\u001b[39m(filename, \u001b[38;5;124m'\u001b[39m\u001b[38;5;124mrb\u001b[39m\u001b[38;5;124m'\u001b[39m) \u001b[38;5;28;01mas\u001b[39;00m file:\n\u001b[0;32m    320\u001b[0m         \u001b[38;5;28mself\u001b[39m\u001b[38;5;241m.\u001b[39m_load(file)\n",
      "\u001b[1;31mFileNotFoundError\u001b[0m: [Errno 2] No such file or directory: '../data\\\\../data/user_midi_file.mid'"
     ]
    }
   ],
   "source": [
    "# Verarbeite und trainiere das Modell mit den benutzerdefinierten Daten\n",
    "data_dir = '../data'  # Pfad zum Verzeichnis mit den MIDI-Dateien\n",
    "\n",
    "# Benutzerdefinierte MIDI-Datei trainieren\n",
    "user_midi_file = '../data/user_midi_file.mid'  # Hier den Dateinamen der benutzerdefinierten MIDI-Datei eingeben\n",
    "model = train_user_model(os.path.join(data_dir, user_midi_file))\n"
   ]
  },
  {
   "cell_type": "code",
   "execution_count": 7,
   "id": "6446d3b9-5e7a-4b3e-b84c-c917357e671e",
   "metadata": {},
   "outputs": [
    {
     "ename": "IndexError",
     "evalue": "index 0 is out of bounds for axis 0 with size 0",
     "output_type": "error",
     "traceback": [
      "\u001b[1;31m---------------------------------------------------------------------------\u001b[0m",
      "\u001b[1;31mIndexError\u001b[0m                                Traceback (most recent call last)",
      "Cell \u001b[1;32mIn[7], line 3\u001b[0m\n\u001b[0;32m      1\u001b[0m \u001b[38;5;66;03m# Musik generieren und speichern\u001b[39;00m\n\u001b[0;32m      2\u001b[0m X_train, y_train \u001b[38;5;241m=\u001b[39m load_data(\u001b[38;5;124m'\u001b[39m\u001b[38;5;124m../data\u001b[39m\u001b[38;5;124m'\u001b[39m)\n\u001b[1;32m----> 3\u001b[0m start_seq \u001b[38;5;241m=\u001b[39m np\u001b[38;5;241m.\u001b[39marray([X_train[\u001b[38;5;241m0\u001b[39m]])  \u001b[38;5;66;03m# Beispielhafte Startsequenz\u001b[39;00m\n\u001b[0;32m      4\u001b[0m new_music \u001b[38;5;241m=\u001b[39m generate_music(model, start_seq)\n\u001b[0;32m      5\u001b[0m notes_to_midi(new_music, \u001b[38;5;124m'\u001b[39m\u001b[38;5;124m../models/user_generated_music.mid\u001b[39m\u001b[38;5;124m'\u001b[39m)\n",
      "\u001b[1;31mIndexError\u001b[0m: index 0 is out of bounds for axis 0 with size 0"
     ]
    }
   ],
   "source": [
    "# Musik generieren und speichern\n",
    "X_train, y_train = load_data('../data')\n",
    "start_seq = np.array([X_train[0]])  # Beispielhafte Startsequenz\n",
    "new_music = generate_music(model, start_seq)\n",
    "notes_to_midi(new_music, '../models/user_generated_music.mid')\n"
   ]
  },
  {
   "cell_type": "code",
   "execution_count": null,
   "id": "19609b05-4d37-4611-9d8c-a46056687cd5",
   "metadata": {},
   "outputs": [],
   "source": [
    "from IPython.display import Audio\n",
    "import librosa\n",
    "\n",
    "# Laden der generierten Musik\n",
    "y, sr = librosa.load('../models/user_generated_music.mid')\n",
    "Audio(y, rate=sr)\n"
   ]
  }
 ],
 "metadata": {
  "kernelspec": {
   "display_name": "Python 3 (ipykernel)",
   "language": "python",
   "name": "python3"
  },
  "language_info": {
   "codemirror_mode": {
    "name": "ipython",
    "version": 3
   },
   "file_extension": ".py",
   "mimetype": "text/x-python",
   "name": "python",
   "nbconvert_exporter": "python",
   "pygments_lexer": "ipython3",
   "version": "3.11.7"
  }
 },
 "nbformat": 4,
 "nbformat_minor": 5
}
